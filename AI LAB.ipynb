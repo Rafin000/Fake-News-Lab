{
 "cells": [
  {
   "cell_type": "code",
   "execution_count": 125,
   "id": "64e323a5",
   "metadata": {},
   "outputs": [],
   "source": [
    "import pandas as pd\n",
    "import numpy as np\n",
    "import seaborn as sns\n",
    "import matplotlib.pyplot as plt\n",
    "import re\n",
    "import string\n",
    "from sklearn.model_selection import train_test_split\n",
    "from sklearn.metrics import accuracy_score\n",
    "from sklearn.metrics import classification_report"
   ]
  },
  {
   "cell_type": "code",
   "execution_count": 126,
   "id": "a5ea963d",
   "metadata": {},
   "outputs": [],
   "source": [
    "df_fake=pd.read_csv('fake.csv')"
   ]
  },
  {
   "cell_type": "code",
   "execution_count": 127,
   "id": "6bbd43ce",
   "metadata": {},
   "outputs": [
    {
     "data": {
      "text/html": [
       "<div>\n",
       "<style scoped>\n",
       "    .dataframe tbody tr th:only-of-type {\n",
       "        vertical-align: middle;\n",
       "    }\n",
       "\n",
       "    .dataframe tbody tr th {\n",
       "        vertical-align: top;\n",
       "    }\n",
       "\n",
       "    .dataframe thead th {\n",
       "        text-align: right;\n",
       "    }\n",
       "</style>\n",
       "<table border=\"1\" class=\"dataframe\">\n",
       "  <thead>\n",
       "    <tr style=\"text-align: right;\">\n",
       "      <th></th>\n",
       "      <th>title</th>\n",
       "      <th>text</th>\n",
       "      <th>subject</th>\n",
       "      <th>date</th>\n",
       "    </tr>\n",
       "  </thead>\n",
       "  <tbody>\n",
       "    <tr>\n",
       "      <th>0</th>\n",
       "      <td>Donald Trump Sends Out Embarrassing New Year’...</td>\n",
       "      <td>Donald Trump just couldn t wish all Americans ...</td>\n",
       "      <td>News</td>\n",
       "      <td>December 31, 2017</td>\n",
       "    </tr>\n",
       "    <tr>\n",
       "      <th>1</th>\n",
       "      <td>Drunk Bragging Trump Staffer Started Russian ...</td>\n",
       "      <td>House Intelligence Committee Chairman Devin Nu...</td>\n",
       "      <td>News</td>\n",
       "      <td>December 31, 2017</td>\n",
       "    </tr>\n",
       "    <tr>\n",
       "      <th>2</th>\n",
       "      <td>Sheriff David Clarke Becomes An Internet Joke...</td>\n",
       "      <td>On Friday, it was revealed that former Milwauk...</td>\n",
       "      <td>News</td>\n",
       "      <td>December 30, 2017</td>\n",
       "    </tr>\n",
       "    <tr>\n",
       "      <th>3</th>\n",
       "      <td>Trump Is So Obsessed He Even Has Obama’s Name...</td>\n",
       "      <td>On Christmas day, Donald Trump announced that ...</td>\n",
       "      <td>News</td>\n",
       "      <td>December 29, 2017</td>\n",
       "    </tr>\n",
       "    <tr>\n",
       "      <th>4</th>\n",
       "      <td>Pope Francis Just Called Out Donald Trump Dur...</td>\n",
       "      <td>Pope Francis used his annual Christmas Day mes...</td>\n",
       "      <td>News</td>\n",
       "      <td>December 25, 2017</td>\n",
       "    </tr>\n",
       "  </tbody>\n",
       "</table>\n",
       "</div>"
      ],
      "text/plain": [
       "                                               title  \\\n",
       "0   Donald Trump Sends Out Embarrassing New Year’...   \n",
       "1   Drunk Bragging Trump Staffer Started Russian ...   \n",
       "2   Sheriff David Clarke Becomes An Internet Joke...   \n",
       "3   Trump Is So Obsessed He Even Has Obama’s Name...   \n",
       "4   Pope Francis Just Called Out Donald Trump Dur...   \n",
       "\n",
       "                                                text subject  \\\n",
       "0  Donald Trump just couldn t wish all Americans ...    News   \n",
       "1  House Intelligence Committee Chairman Devin Nu...    News   \n",
       "2  On Friday, it was revealed that former Milwauk...    News   \n",
       "3  On Christmas day, Donald Trump announced that ...    News   \n",
       "4  Pope Francis used his annual Christmas Day mes...    News   \n",
       "\n",
       "                date  \n",
       "0  December 31, 2017  \n",
       "1  December 31, 2017  \n",
       "2  December 30, 2017  \n",
       "3  December 29, 2017  \n",
       "4  December 25, 2017  "
      ]
     },
     "execution_count": 127,
     "metadata": {},
     "output_type": "execute_result"
    }
   ],
   "source": [
    "df_fake.head()"
   ]
  },
  {
   "cell_type": "code",
   "execution_count": 128,
   "id": "b05b7cf9",
   "metadata": {},
   "outputs": [],
   "source": [
    "df_true=pd.read_csv('true.csv')"
   ]
  },
  {
   "cell_type": "code",
   "execution_count": 129,
   "id": "1753f9b6",
   "metadata": {},
   "outputs": [
    {
     "data": {
      "text/plain": [
       "(23481, 4)"
      ]
     },
     "execution_count": 129,
     "metadata": {},
     "output_type": "execute_result"
    }
   ],
   "source": [
    "df_fake.shape"
   ]
  },
  {
   "cell_type": "code",
   "execution_count": 130,
   "id": "3ec64493",
   "metadata": {},
   "outputs": [],
   "source": [
    "for i in range(21416,2000,-1):\n",
    "    df_true.drop([i],axis=0,inplace=True)"
   ]
  },
  {
   "cell_type": "code",
   "execution_count": 131,
   "id": "5c097b8d",
   "metadata": {},
   "outputs": [],
   "source": [
    "for i in range(21416,2000,-1):\n",
    "    df_fake.drop([i],axis=0,inplace=True)"
   ]
  },
  {
   "cell_type": "code",
   "execution_count": 132,
   "id": "9618aa95",
   "metadata": {},
   "outputs": [
    {
     "data": {
      "text/html": [
       "<div>\n",
       "<style scoped>\n",
       "    .dataframe tbody tr th:only-of-type {\n",
       "        vertical-align: middle;\n",
       "    }\n",
       "\n",
       "    .dataframe tbody tr th {\n",
       "        vertical-align: top;\n",
       "    }\n",
       "\n",
       "    .dataframe thead th {\n",
       "        text-align: right;\n",
       "    }\n",
       "</style>\n",
       "<table border=\"1\" class=\"dataframe\">\n",
       "  <thead>\n",
       "    <tr style=\"text-align: right;\">\n",
       "      <th></th>\n",
       "      <th>title</th>\n",
       "      <th>text</th>\n",
       "      <th>subject</th>\n",
       "      <th>date</th>\n",
       "    </tr>\n",
       "  </thead>\n",
       "  <tbody>\n",
       "    <tr>\n",
       "      <th>0</th>\n",
       "      <td>As U.S. budget fight looms, Republicans flip t...</td>\n",
       "      <td>WASHINGTON (Reuters) - The head of a conservat...</td>\n",
       "      <td>politicsNews</td>\n",
       "      <td>December 31, 2017</td>\n",
       "    </tr>\n",
       "    <tr>\n",
       "      <th>1</th>\n",
       "      <td>U.S. military to accept transgender recruits o...</td>\n",
       "      <td>WASHINGTON (Reuters) - Transgender people will...</td>\n",
       "      <td>politicsNews</td>\n",
       "      <td>December 29, 2017</td>\n",
       "    </tr>\n",
       "    <tr>\n",
       "      <th>2</th>\n",
       "      <td>Senior U.S. Republican senator: 'Let Mr. Muell...</td>\n",
       "      <td>WASHINGTON (Reuters) - The special counsel inv...</td>\n",
       "      <td>politicsNews</td>\n",
       "      <td>December 31, 2017</td>\n",
       "    </tr>\n",
       "    <tr>\n",
       "      <th>3</th>\n",
       "      <td>FBI Russia probe helped by Australian diplomat...</td>\n",
       "      <td>WASHINGTON (Reuters) - Trump campaign adviser ...</td>\n",
       "      <td>politicsNews</td>\n",
       "      <td>December 30, 2017</td>\n",
       "    </tr>\n",
       "    <tr>\n",
       "      <th>4</th>\n",
       "      <td>Trump wants Postal Service to charge 'much mor...</td>\n",
       "      <td>SEATTLE/WASHINGTON (Reuters) - President Donal...</td>\n",
       "      <td>politicsNews</td>\n",
       "      <td>December 29, 2017</td>\n",
       "    </tr>\n",
       "  </tbody>\n",
       "</table>\n",
       "</div>"
      ],
      "text/plain": [
       "                                               title  \\\n",
       "0  As U.S. budget fight looms, Republicans flip t...   \n",
       "1  U.S. military to accept transgender recruits o...   \n",
       "2  Senior U.S. Republican senator: 'Let Mr. Muell...   \n",
       "3  FBI Russia probe helped by Australian diplomat...   \n",
       "4  Trump wants Postal Service to charge 'much mor...   \n",
       "\n",
       "                                                text       subject  \\\n",
       "0  WASHINGTON (Reuters) - The head of a conservat...  politicsNews   \n",
       "1  WASHINGTON (Reuters) - Transgender people will...  politicsNews   \n",
       "2  WASHINGTON (Reuters) - The special counsel inv...  politicsNews   \n",
       "3  WASHINGTON (Reuters) - Trump campaign adviser ...  politicsNews   \n",
       "4  SEATTLE/WASHINGTON (Reuters) - President Donal...  politicsNews   \n",
       "\n",
       "                 date  \n",
       "0  December 31, 2017   \n",
       "1  December 29, 2017   \n",
       "2  December 31, 2017   \n",
       "3  December 30, 2017   \n",
       "4  December 29, 2017   "
      ]
     },
     "execution_count": 132,
     "metadata": {},
     "output_type": "execute_result"
    }
   ],
   "source": [
    "df_true.head()"
   ]
  },
  {
   "cell_type": "code",
   "execution_count": 133,
   "id": "2b11e362",
   "metadata": {},
   "outputs": [
    {
     "data": {
      "text/plain": [
       "politicsNews    2001\n",
       "Name: subject, dtype: int64"
      ]
     },
     "execution_count": 133,
     "metadata": {},
     "output_type": "execute_result"
    }
   ],
   "source": [
    "df_true['subject'].value_counts()"
   ]
  },
  {
   "cell_type": "code",
   "execution_count": 134,
   "id": "02d98535",
   "metadata": {},
   "outputs": [
    {
     "data": {
      "text/plain": [
       "News           2001\n",
       "US_News         783\n",
       "Middle-east     778\n",
       "left-news       503\n",
       "Name: subject, dtype: int64"
      ]
     },
     "execution_count": 134,
     "metadata": {},
     "output_type": "execute_result"
    }
   ],
   "source": [
    "df_fake['subject'].value_counts()"
   ]
  },
  {
   "cell_type": "code",
   "execution_count": 135,
   "id": "1085bdd7",
   "metadata": {},
   "outputs": [],
   "source": [
    "df_fake['Class']=0\n",
    "df_true['Class']=1"
   ]
  },
  {
   "cell_type": "code",
   "execution_count": 136,
   "id": "80758e51",
   "metadata": {},
   "outputs": [
    {
     "data": {
      "text/plain": [
       "(4065, 5)"
      ]
     },
     "execution_count": 136,
     "metadata": {},
     "output_type": "execute_result"
    }
   ],
   "source": [
    "df_fake.shape"
   ]
  },
  {
   "cell_type": "code",
   "execution_count": 137,
   "id": "0963e894",
   "metadata": {},
   "outputs": [],
   "source": [
    "df_sfake_test=df_fake.tail(10)\n",
    "for i in range(1999,1989,-1):\n",
    "    df_fake.drop([i],axis=0,inplace=True)"
   ]
  },
  {
   "cell_type": "code",
   "execution_count": 138,
   "id": "6fb29a13",
   "metadata": {},
   "outputs": [
    {
     "data": {
      "text/html": [
       "<div>\n",
       "<style scoped>\n",
       "    .dataframe tbody tr th:only-of-type {\n",
       "        vertical-align: middle;\n",
       "    }\n",
       "\n",
       "    .dataframe tbody tr th {\n",
       "        vertical-align: top;\n",
       "    }\n",
       "\n",
       "    .dataframe thead th {\n",
       "        text-align: right;\n",
       "    }\n",
       "</style>\n",
       "<table border=\"1\" class=\"dataframe\">\n",
       "  <thead>\n",
       "    <tr style=\"text-align: right;\">\n",
       "      <th></th>\n",
       "      <th>title</th>\n",
       "      <th>text</th>\n",
       "      <th>subject</th>\n",
       "      <th>date</th>\n",
       "      <th>Class</th>\n",
       "    </tr>\n",
       "  </thead>\n",
       "  <tbody>\n",
       "    <tr>\n",
       "      <th>23471</th>\n",
       "      <td>Seven Iranians freed in the prisoner swap have...</td>\n",
       "      <td>21st Century Wire says This week, the historic...</td>\n",
       "      <td>Middle-east</td>\n",
       "      <td>January 20, 2016</td>\n",
       "      <td>0</td>\n",
       "    </tr>\n",
       "    <tr>\n",
       "      <th>23472</th>\n",
       "      <td>#Hashtag Hell &amp; The Fake Left</td>\n",
       "      <td>By Dady Chery and Gilbert MercierAll writers ...</td>\n",
       "      <td>Middle-east</td>\n",
       "      <td>January 19, 2016</td>\n",
       "      <td>0</td>\n",
       "    </tr>\n",
       "    <tr>\n",
       "      <th>23473</th>\n",
       "      <td>Astroturfing: Journalist Reveals Brainwashing ...</td>\n",
       "      <td>Vic Bishop Waking TimesOur reality is carefull...</td>\n",
       "      <td>Middle-east</td>\n",
       "      <td>January 19, 2016</td>\n",
       "      <td>0</td>\n",
       "    </tr>\n",
       "    <tr>\n",
       "      <th>23474</th>\n",
       "      <td>The New American Century: An Era of Fraud</td>\n",
       "      <td>Paul Craig RobertsIn the last years of the 20t...</td>\n",
       "      <td>Middle-east</td>\n",
       "      <td>January 19, 2016</td>\n",
       "      <td>0</td>\n",
       "    </tr>\n",
       "    <tr>\n",
       "      <th>23475</th>\n",
       "      <td>Hillary Clinton: ‘Israel First’ (and no peace ...</td>\n",
       "      <td>Robert Fantina CounterpunchAlthough the United...</td>\n",
       "      <td>Middle-east</td>\n",
       "      <td>January 18, 2016</td>\n",
       "      <td>0</td>\n",
       "    </tr>\n",
       "    <tr>\n",
       "      <th>23476</th>\n",
       "      <td>McPain: John McCain Furious That Iran Treated ...</td>\n",
       "      <td>21st Century Wire says As 21WIRE reported earl...</td>\n",
       "      <td>Middle-east</td>\n",
       "      <td>January 16, 2016</td>\n",
       "      <td>0</td>\n",
       "    </tr>\n",
       "    <tr>\n",
       "      <th>23477</th>\n",
       "      <td>JUSTICE? Yahoo Settles E-mail Privacy Class-ac...</td>\n",
       "      <td>21st Century Wire says It s a familiar theme. ...</td>\n",
       "      <td>Middle-east</td>\n",
       "      <td>January 16, 2016</td>\n",
       "      <td>0</td>\n",
       "    </tr>\n",
       "    <tr>\n",
       "      <th>23478</th>\n",
       "      <td>Sunnistan: US and Allied ‘Safe Zone’ Plan to T...</td>\n",
       "      <td>Patrick Henningsen  21st Century WireRemember ...</td>\n",
       "      <td>Middle-east</td>\n",
       "      <td>January 15, 2016</td>\n",
       "      <td>0</td>\n",
       "    </tr>\n",
       "    <tr>\n",
       "      <th>23479</th>\n",
       "      <td>How to Blow $700 Million: Al Jazeera America F...</td>\n",
       "      <td>21st Century Wire says Al Jazeera America will...</td>\n",
       "      <td>Middle-east</td>\n",
       "      <td>January 14, 2016</td>\n",
       "      <td>0</td>\n",
       "    </tr>\n",
       "    <tr>\n",
       "      <th>23480</th>\n",
       "      <td>10 U.S. Navy Sailors Held by Iranian Military ...</td>\n",
       "      <td>21st Century Wire says As 21WIRE predicted in ...</td>\n",
       "      <td>Middle-east</td>\n",
       "      <td>January 12, 2016</td>\n",
       "      <td>0</td>\n",
       "    </tr>\n",
       "  </tbody>\n",
       "</table>\n",
       "</div>"
      ],
      "text/plain": [
       "                                                   title  \\\n",
       "23471  Seven Iranians freed in the prisoner swap have...   \n",
       "23472                      #Hashtag Hell & The Fake Left   \n",
       "23473  Astroturfing: Journalist Reveals Brainwashing ...   \n",
       "23474          The New American Century: An Era of Fraud   \n",
       "23475  Hillary Clinton: ‘Israel First’ (and no peace ...   \n",
       "23476  McPain: John McCain Furious That Iran Treated ...   \n",
       "23477  JUSTICE? Yahoo Settles E-mail Privacy Class-ac...   \n",
       "23478  Sunnistan: US and Allied ‘Safe Zone’ Plan to T...   \n",
       "23479  How to Blow $700 Million: Al Jazeera America F...   \n",
       "23480  10 U.S. Navy Sailors Held by Iranian Military ...   \n",
       "\n",
       "                                                    text      subject  \\\n",
       "23471  21st Century Wire says This week, the historic...  Middle-east   \n",
       "23472   By Dady Chery and Gilbert MercierAll writers ...  Middle-east   \n",
       "23473  Vic Bishop Waking TimesOur reality is carefull...  Middle-east   \n",
       "23474  Paul Craig RobertsIn the last years of the 20t...  Middle-east   \n",
       "23475  Robert Fantina CounterpunchAlthough the United...  Middle-east   \n",
       "23476  21st Century Wire says As 21WIRE reported earl...  Middle-east   \n",
       "23477  21st Century Wire says It s a familiar theme. ...  Middle-east   \n",
       "23478  Patrick Henningsen  21st Century WireRemember ...  Middle-east   \n",
       "23479  21st Century Wire says Al Jazeera America will...  Middle-east   \n",
       "23480  21st Century Wire says As 21WIRE predicted in ...  Middle-east   \n",
       "\n",
       "                   date  Class  \n",
       "23471  January 20, 2016      0  \n",
       "23472  January 19, 2016      0  \n",
       "23473  January 19, 2016      0  \n",
       "23474  January 19, 2016      0  \n",
       "23475  January 18, 2016      0  \n",
       "23476  January 16, 2016      0  \n",
       "23477  January 16, 2016      0  \n",
       "23478  January 15, 2016      0  \n",
       "23479  January 14, 2016      0  \n",
       "23480  January 12, 2016      0  "
      ]
     },
     "execution_count": 138,
     "metadata": {},
     "output_type": "execute_result"
    }
   ],
   "source": [
    "df_fake_test"
   ]
  },
  {
   "cell_type": "code",
   "execution_count": 139,
   "id": "15a941f8",
   "metadata": {},
   "outputs": [],
   "source": [
    "df_true_test=df_true.tail(10)\n",
    "for i in range(1999,1989,-1):\n",
    "    df_true.drop([i],axis=0,inplace=True)"
   ]
  },
  {
   "cell_type": "code",
   "execution_count": 140,
   "id": "a7f8a68d",
   "metadata": {},
   "outputs": [
    {
     "data": {
      "text/plain": [
       "(1991, 5)"
      ]
     },
     "execution_count": 140,
     "metadata": {},
     "output_type": "execute_result"
    }
   ],
   "source": [
    "df_true.shape"
   ]
  },
  {
   "cell_type": "code",
   "execution_count": 143,
   "id": "c43c2d1f",
   "metadata": {},
   "outputs": [],
   "source": [
    "df_test=pd.concat([df_fake_test,df_true_test],axis=0)\n",
    "df_test.to_csv('Test.csv')"
   ]
  },
  {
   "cell_type": "code",
   "execution_count": 144,
   "id": "5b2f98d4",
   "metadata": {},
   "outputs": [],
   "source": [
    "df_train=pd.concat([df_fake,df_true],axis=0)"
   ]
  },
  {
   "cell_type": "code",
   "execution_count": 145,
   "id": "e2d553a0",
   "metadata": {},
   "outputs": [
    {
     "data": {
      "text/html": [
       "<div>\n",
       "<style scoped>\n",
       "    .dataframe tbody tr th:only-of-type {\n",
       "        vertical-align: middle;\n",
       "    }\n",
       "\n",
       "    .dataframe tbody tr th {\n",
       "        vertical-align: top;\n",
       "    }\n",
       "\n",
       "    .dataframe thead th {\n",
       "        text-align: right;\n",
       "    }\n",
       "</style>\n",
       "<table border=\"1\" class=\"dataframe\">\n",
       "  <thead>\n",
       "    <tr style=\"text-align: right;\">\n",
       "      <th></th>\n",
       "      <th>title</th>\n",
       "      <th>text</th>\n",
       "      <th>subject</th>\n",
       "      <th>date</th>\n",
       "      <th>Class</th>\n",
       "    </tr>\n",
       "  </thead>\n",
       "  <tbody>\n",
       "    <tr>\n",
       "      <th>0</th>\n",
       "      <td>Donald Trump Sends Out Embarrassing New Year’...</td>\n",
       "      <td>Donald Trump just couldn t wish all Americans ...</td>\n",
       "      <td>News</td>\n",
       "      <td>December 31, 2017</td>\n",
       "      <td>0</td>\n",
       "    </tr>\n",
       "    <tr>\n",
       "      <th>1</th>\n",
       "      <td>Drunk Bragging Trump Staffer Started Russian ...</td>\n",
       "      <td>House Intelligence Committee Chairman Devin Nu...</td>\n",
       "      <td>News</td>\n",
       "      <td>December 31, 2017</td>\n",
       "      <td>0</td>\n",
       "    </tr>\n",
       "    <tr>\n",
       "      <th>2</th>\n",
       "      <td>Sheriff David Clarke Becomes An Internet Joke...</td>\n",
       "      <td>On Friday, it was revealed that former Milwauk...</td>\n",
       "      <td>News</td>\n",
       "      <td>December 30, 2017</td>\n",
       "      <td>0</td>\n",
       "    </tr>\n",
       "    <tr>\n",
       "      <th>3</th>\n",
       "      <td>Trump Is So Obsessed He Even Has Obama’s Name...</td>\n",
       "      <td>On Christmas day, Donald Trump announced that ...</td>\n",
       "      <td>News</td>\n",
       "      <td>December 29, 2017</td>\n",
       "      <td>0</td>\n",
       "    </tr>\n",
       "    <tr>\n",
       "      <th>4</th>\n",
       "      <td>Pope Francis Just Called Out Donald Trump Dur...</td>\n",
       "      <td>Pope Francis used his annual Christmas Day mes...</td>\n",
       "      <td>News</td>\n",
       "      <td>December 25, 2017</td>\n",
       "      <td>0</td>\n",
       "    </tr>\n",
       "    <tr>\n",
       "      <th>...</th>\n",
       "      <td>...</td>\n",
       "      <td>...</td>\n",
       "      <td>...</td>\n",
       "      <td>...</td>\n",
       "      <td>...</td>\n",
       "    </tr>\n",
       "    <tr>\n",
       "      <th>1986</th>\n",
       "      <td>Trump Jr. to testify in Senate, Manafort lawye...</td>\n",
       "      <td>WASHINGTON (Reuters) - President Donald Trump’...</td>\n",
       "      <td>politicsNews</td>\n",
       "      <td>August 29, 2017</td>\n",
       "      <td>1</td>\n",
       "    </tr>\n",
       "    <tr>\n",
       "      <th>1987</th>\n",
       "      <td>Tough choice for Trump if Congress refuses bor...</td>\n",
       "      <td>WASHINGTON (Reuters) - President Donald Trump ...</td>\n",
       "      <td>politicsNews</td>\n",
       "      <td>August 29, 2017</td>\n",
       "      <td>1</td>\n",
       "    </tr>\n",
       "    <tr>\n",
       "      <th>1988</th>\n",
       "      <td>U.S. appeals court questions scope of Trump tr...</td>\n",
       "      <td>SEATTLE (Reuters) - A U.S. appeals court on Mo...</td>\n",
       "      <td>politicsNews</td>\n",
       "      <td>August 28, 2017</td>\n",
       "      <td>1</td>\n",
       "    </tr>\n",
       "    <tr>\n",
       "      <th>1989</th>\n",
       "      <td>EPA inspector general to investigate agency ch...</td>\n",
       "      <td>WASHINGTON/NEW YORK (Reuters) - The frequent t...</td>\n",
       "      <td>politicsNews</td>\n",
       "      <td>August 28, 2017</td>\n",
       "      <td>1</td>\n",
       "    </tr>\n",
       "    <tr>\n",
       "      <th>2000</th>\n",
       "      <td>Tillerson says U.S. will keep up 'peaceful pre...</td>\n",
       "      <td>WASHINGTON (Reuters) - U.S. Secretary of State...</td>\n",
       "      <td>politicsNews</td>\n",
       "      <td>August 27, 2017</td>\n",
       "      <td>1</td>\n",
       "    </tr>\n",
       "  </tbody>\n",
       "</table>\n",
       "<p>6046 rows × 5 columns</p>\n",
       "</div>"
      ],
      "text/plain": [
       "                                                  title  \\\n",
       "0      Donald Trump Sends Out Embarrassing New Year’...   \n",
       "1      Drunk Bragging Trump Staffer Started Russian ...   \n",
       "2      Sheriff David Clarke Becomes An Internet Joke...   \n",
       "3      Trump Is So Obsessed He Even Has Obama’s Name...   \n",
       "4      Pope Francis Just Called Out Donald Trump Dur...   \n",
       "...                                                 ...   \n",
       "1986  Trump Jr. to testify in Senate, Manafort lawye...   \n",
       "1987  Tough choice for Trump if Congress refuses bor...   \n",
       "1988  U.S. appeals court questions scope of Trump tr...   \n",
       "1989  EPA inspector general to investigate agency ch...   \n",
       "2000  Tillerson says U.S. will keep up 'peaceful pre...   \n",
       "\n",
       "                                                   text       subject  \\\n",
       "0     Donald Trump just couldn t wish all Americans ...          News   \n",
       "1     House Intelligence Committee Chairman Devin Nu...          News   \n",
       "2     On Friday, it was revealed that former Milwauk...          News   \n",
       "3     On Christmas day, Donald Trump announced that ...          News   \n",
       "4     Pope Francis used his annual Christmas Day mes...          News   \n",
       "...                                                 ...           ...   \n",
       "1986  WASHINGTON (Reuters) - President Donald Trump’...  politicsNews   \n",
       "1987  WASHINGTON (Reuters) - President Donald Trump ...  politicsNews   \n",
       "1988  SEATTLE (Reuters) - A U.S. appeals court on Mo...  politicsNews   \n",
       "1989  WASHINGTON/NEW YORK (Reuters) - The frequent t...  politicsNews   \n",
       "2000  WASHINGTON (Reuters) - U.S. Secretary of State...  politicsNews   \n",
       "\n",
       "                   date  Class  \n",
       "0     December 31, 2017      0  \n",
       "1     December 31, 2017      0  \n",
       "2     December 30, 2017      0  \n",
       "3     December 29, 2017      0  \n",
       "4     December 25, 2017      0  \n",
       "...                 ...    ...  \n",
       "1986   August 29, 2017       1  \n",
       "1987   August 29, 2017       1  \n",
       "1988   August 28, 2017       1  \n",
       "1989   August 28, 2017       1  \n",
       "2000   August 27, 2017       1  \n",
       "\n",
       "[6046 rows x 5 columns]"
      ]
     },
     "execution_count": 145,
     "metadata": {},
     "output_type": "execute_result"
    }
   ],
   "source": [
    "df_train"
   ]
  },
  {
   "cell_type": "code",
   "execution_count": 146,
   "id": "1575859b",
   "metadata": {},
   "outputs": [],
   "source": [
    "df_train_final=df_train.drop(['title','subject','date'],axis=1)"
   ]
  },
  {
   "cell_type": "code",
   "execution_count": 147,
   "id": "b87999e0",
   "metadata": {},
   "outputs": [
    {
     "data": {
      "text/plain": [
       "text     0\n",
       "Class    0\n",
       "dtype: int64"
      ]
     },
     "execution_count": 147,
     "metadata": {},
     "output_type": "execute_result"
    }
   ],
   "source": [
    "df_train_final.isnull().sum()"
   ]
  },
  {
   "cell_type": "code",
   "execution_count": 148,
   "id": "94560c44",
   "metadata": {},
   "outputs": [],
   "source": [
    "df_train_final = df_train_final.sample(frac = 1)"
   ]
  },
  {
   "cell_type": "code",
   "execution_count": 149,
   "id": "dea95867",
   "metadata": {},
   "outputs": [
    {
     "data": {
      "text/html": [
       "<div>\n",
       "<style scoped>\n",
       "    .dataframe tbody tr th:only-of-type {\n",
       "        vertical-align: middle;\n",
       "    }\n",
       "\n",
       "    .dataframe tbody tr th {\n",
       "        vertical-align: top;\n",
       "    }\n",
       "\n",
       "    .dataframe thead th {\n",
       "        text-align: right;\n",
       "    }\n",
       "</style>\n",
       "<table border=\"1\" class=\"dataframe\">\n",
       "  <thead>\n",
       "    <tr style=\"text-align: right;\">\n",
       "      <th></th>\n",
       "      <th>text</th>\n",
       "      <th>Class</th>\n",
       "    </tr>\n",
       "  </thead>\n",
       "  <tbody>\n",
       "    <tr>\n",
       "      <th>1072</th>\n",
       "      <td>WASHINGTON (Reuters) - President Donald Trump ...</td>\n",
       "      <td>1</td>\n",
       "    </tr>\n",
       "    <tr>\n",
       "      <th>21604</th>\n",
       "      <td>Americans need to put American citizens first ...</td>\n",
       "      <td>0</td>\n",
       "    </tr>\n",
       "    <tr>\n",
       "      <th>113</th>\n",
       "      <td>NEW YORK (Reuters) - Financial advisers and ac...</td>\n",
       "      <td>1</td>\n",
       "    </tr>\n",
       "    <tr>\n",
       "      <th>22641</th>\n",
       "      <td>21st Century Wire says Did Mitt Romney just ma...</td>\n",
       "      <td>0</td>\n",
       "    </tr>\n",
       "    <tr>\n",
       "      <th>70</th>\n",
       "      <td>Ivanka Trump and Chelsea Clinton defended Mali...</td>\n",
       "      <td>0</td>\n",
       "    </tr>\n",
       "  </tbody>\n",
       "</table>\n",
       "</div>"
      ],
      "text/plain": [
       "                                                    text  Class\n",
       "1072   WASHINGTON (Reuters) - President Donald Trump ...      1\n",
       "21604  Americans need to put American citizens first ...      0\n",
       "113    NEW YORK (Reuters) - Financial advisers and ac...      1\n",
       "22641  21st Century Wire says Did Mitt Romney just ma...      0\n",
       "70     Ivanka Trump and Chelsea Clinton defended Mali...      0"
      ]
     },
     "execution_count": 149,
     "metadata": {},
     "output_type": "execute_result"
    }
   ],
   "source": [
    "df_train_final.head()"
   ]
  },
  {
   "cell_type": "code",
   "execution_count": 150,
   "id": "db9f305d",
   "metadata": {},
   "outputs": [],
   "source": [
    "df_train_final.reset_index(inplace=True)"
   ]
  },
  {
   "cell_type": "code",
   "execution_count": 151,
   "id": "bb42d42b",
   "metadata": {},
   "outputs": [
    {
     "data": {
      "text/html": [
       "<div>\n",
       "<style scoped>\n",
       "    .dataframe tbody tr th:only-of-type {\n",
       "        vertical-align: middle;\n",
       "    }\n",
       "\n",
       "    .dataframe tbody tr th {\n",
       "        vertical-align: top;\n",
       "    }\n",
       "\n",
       "    .dataframe thead th {\n",
       "        text-align: right;\n",
       "    }\n",
       "</style>\n",
       "<table border=\"1\" class=\"dataframe\">\n",
       "  <thead>\n",
       "    <tr style=\"text-align: right;\">\n",
       "      <th></th>\n",
       "      <th>index</th>\n",
       "      <th>text</th>\n",
       "      <th>Class</th>\n",
       "    </tr>\n",
       "  </thead>\n",
       "  <tbody>\n",
       "    <tr>\n",
       "      <th>0</th>\n",
       "      <td>1072</td>\n",
       "      <td>WASHINGTON (Reuters) - President Donald Trump ...</td>\n",
       "      <td>1</td>\n",
       "    </tr>\n",
       "    <tr>\n",
       "      <th>1</th>\n",
       "      <td>21604</td>\n",
       "      <td>Americans need to put American citizens first ...</td>\n",
       "      <td>0</td>\n",
       "    </tr>\n",
       "    <tr>\n",
       "      <th>2</th>\n",
       "      <td>113</td>\n",
       "      <td>NEW YORK (Reuters) - Financial advisers and ac...</td>\n",
       "      <td>1</td>\n",
       "    </tr>\n",
       "    <tr>\n",
       "      <th>3</th>\n",
       "      <td>22641</td>\n",
       "      <td>21st Century Wire says Did Mitt Romney just ma...</td>\n",
       "      <td>0</td>\n",
       "    </tr>\n",
       "    <tr>\n",
       "      <th>4</th>\n",
       "      <td>70</td>\n",
       "      <td>Ivanka Trump and Chelsea Clinton defended Mali...</td>\n",
       "      <td>0</td>\n",
       "    </tr>\n",
       "  </tbody>\n",
       "</table>\n",
       "</div>"
      ],
      "text/plain": [
       "   index                                               text  Class\n",
       "0   1072  WASHINGTON (Reuters) - President Donald Trump ...      1\n",
       "1  21604  Americans need to put American citizens first ...      0\n",
       "2    113  NEW YORK (Reuters) - Financial advisers and ac...      1\n",
       "3  22641  21st Century Wire says Did Mitt Romney just ma...      0\n",
       "4     70  Ivanka Trump and Chelsea Clinton defended Mali...      0"
      ]
     },
     "execution_count": 151,
     "metadata": {},
     "output_type": "execute_result"
    }
   ],
   "source": [
    "df_train_final.head()"
   ]
  },
  {
   "cell_type": "code",
   "execution_count": 152,
   "id": "7d3babe0",
   "metadata": {},
   "outputs": [],
   "source": [
    "df_train_final.drop([\"index\"], axis = 1, inplace = True)"
   ]
  },
  {
   "cell_type": "code",
   "execution_count": 153,
   "id": "6fb4339a",
   "metadata": {},
   "outputs": [
    {
     "data": {
      "text/html": [
       "<div>\n",
       "<style scoped>\n",
       "    .dataframe tbody tr th:only-of-type {\n",
       "        vertical-align: middle;\n",
       "    }\n",
       "\n",
       "    .dataframe tbody tr th {\n",
       "        vertical-align: top;\n",
       "    }\n",
       "\n",
       "    .dataframe thead th {\n",
       "        text-align: right;\n",
       "    }\n",
       "</style>\n",
       "<table border=\"1\" class=\"dataframe\">\n",
       "  <thead>\n",
       "    <tr style=\"text-align: right;\">\n",
       "      <th></th>\n",
       "      <th>text</th>\n",
       "      <th>Class</th>\n",
       "    </tr>\n",
       "  </thead>\n",
       "  <tbody>\n",
       "    <tr>\n",
       "      <th>0</th>\n",
       "      <td>WASHINGTON (Reuters) - President Donald Trump ...</td>\n",
       "      <td>1</td>\n",
       "    </tr>\n",
       "    <tr>\n",
       "      <th>1</th>\n",
       "      <td>Americans need to put American citizens first ...</td>\n",
       "      <td>0</td>\n",
       "    </tr>\n",
       "    <tr>\n",
       "      <th>2</th>\n",
       "      <td>NEW YORK (Reuters) - Financial advisers and ac...</td>\n",
       "      <td>1</td>\n",
       "    </tr>\n",
       "    <tr>\n",
       "      <th>3</th>\n",
       "      <td>21st Century Wire says Did Mitt Romney just ma...</td>\n",
       "      <td>0</td>\n",
       "    </tr>\n",
       "    <tr>\n",
       "      <th>4</th>\n",
       "      <td>Ivanka Trump and Chelsea Clinton defended Mali...</td>\n",
       "      <td>0</td>\n",
       "    </tr>\n",
       "    <tr>\n",
       "      <th>...</th>\n",
       "      <td>...</td>\n",
       "      <td>...</td>\n",
       "    </tr>\n",
       "    <tr>\n",
       "      <th>6041</th>\n",
       "      <td>(Reuters) - Donald Trump’s nominee to head the...</td>\n",
       "      <td>1</td>\n",
       "    </tr>\n",
       "    <tr>\n",
       "      <th>6042</th>\n",
       "      <td>(Reuters) - U.S. Senator Bob Corker has spent ...</td>\n",
       "      <td>1</td>\n",
       "    </tr>\n",
       "    <tr>\n",
       "      <th>6043</th>\n",
       "      <td></td>\n",
       "      <td>0</td>\n",
       "    </tr>\n",
       "    <tr>\n",
       "      <th>6044</th>\n",
       "      <td>Ronald Reagan is rolling in his grave.Donald T...</td>\n",
       "      <td>0</td>\n",
       "    </tr>\n",
       "    <tr>\n",
       "      <th>6045</th>\n",
       "      <td>Shawn Helton 21st Century WireAnti-Trump stree...</td>\n",
       "      <td>0</td>\n",
       "    </tr>\n",
       "  </tbody>\n",
       "</table>\n",
       "<p>6046 rows × 2 columns</p>\n",
       "</div>"
      ],
      "text/plain": [
       "                                                   text  Class\n",
       "0     WASHINGTON (Reuters) - President Donald Trump ...      1\n",
       "1     Americans need to put American citizens first ...      0\n",
       "2     NEW YORK (Reuters) - Financial advisers and ac...      1\n",
       "3     21st Century Wire says Did Mitt Romney just ma...      0\n",
       "4     Ivanka Trump and Chelsea Clinton defended Mali...      0\n",
       "...                                                 ...    ...\n",
       "6041  (Reuters) - Donald Trump’s nominee to head the...      1\n",
       "6042  (Reuters) - U.S. Senator Bob Corker has spent ...      1\n",
       "6043                                                         0\n",
       "6044  Ronald Reagan is rolling in his grave.Donald T...      0\n",
       "6045  Shawn Helton 21st Century WireAnti-Trump stree...      0\n",
       "\n",
       "[6046 rows x 2 columns]"
      ]
     },
     "execution_count": 153,
     "metadata": {},
     "output_type": "execute_result"
    }
   ],
   "source": [
    "df_train_final"
   ]
  },
  {
   "cell_type": "code",
   "execution_count": 154,
   "id": "4a9e765c",
   "metadata": {},
   "outputs": [
    {
     "data": {
      "text/plain": [
       "(6046, 2)"
      ]
     },
     "execution_count": 154,
     "metadata": {},
     "output_type": "execute_result"
    }
   ],
   "source": [
    "df_train_final.shape"
   ]
  },
  {
   "cell_type": "code",
   "execution_count": 155,
   "id": "fdeef403",
   "metadata": {},
   "outputs": [],
   "source": [
    "def wordopt(text):\n",
    "    text = text.lower()\n",
    "    text = re.sub('\\[.*?\\]', '', text)\n",
    "    text = re.sub(\"\\\\W\",\" \",text) \n",
    "    text = re.sub('https?://\\S+|www\\.\\S+', '', text)\n",
    "    text = re.sub('<.*?>+', '', text)\n",
    "    text = re.sub('[%s]' % re.escape(string.punctuation), '', text)\n",
    "    text = re.sub('\\n', '', text)\n",
    "    text = re.sub('\\w*\\d\\w*', '', text)    \n",
    "    return text"
   ]
  },
  {
   "cell_type": "code",
   "execution_count": 156,
   "id": "9358b97c",
   "metadata": {},
   "outputs": [
    {
     "data": {
      "text/plain": [
       "'WASHINGTON (Reuters) - President Donald Trump began talks with Republican senators on Tuesday to try to build consensus for proposed tax cuts in a meeting that was overshadowed by an exchange of insults between the president and one of the lawmakers. Trump has asked his fellow Republicans who control Congress to pass a package of tax cuts, including a deep reduction in the corporate income tax, by year’s end.  But hours before he was to promote the tax plan at a weekly lunch for Republican senators on Capitol Hill, Trump engaged in a distracting tussle with one of those lawmakers: Bob Corker, a leading fiscal hawk and the head of the Senate Foreign Relations Committee.  “Bob Corker, who ... couldn’t get elected dog catcher in Tennessee, is now fighting Tax Cuts,” Trump wrote on Twitter, later adding that the senator is “incompetent.” Trump arrived at the Capitol building with Senate Majority Leader Mitch McConnell for the lunch and gave a thumbs up to waiting reporters.  A protester threw a handful of small Russian flags toward Trump and shouted comments about accusations of collusion between his presidential campaign and Moscow. Both Trump and Russia deny colluding but a special counsel appointed by the U.S. Justice Department and congressional committees are looking into the matter. Alienating any members of his own party could be costly for Trump’s legislative initiatives in the Senate because Republicans control the chamber by just a slim 52-48 margin.     Corker warned Trump in television interviews against interfering in congressional efforts to finalize the legislation to cut taxes and called the president’s visit with Senate Republicans “a photo op.” “Hopefully, the White House will step aside and let that occur in a normal process,” the Tennessee Republican told NBC’s “Today” program. “That’s the best way for us to have success.” Corker also described Trump in a Twitter post as “an utterly untruthful president,” and in television interviews accused Trump of debasing the United States. House of Representatives Speaker Paul Ryan urged reporters to ignore the Trump-Corker spat and concentrate on the tax plan. “Put this Twitter dispute aside. The fact is we have an historic chance of fixing this tax code,” Ryan said. Ryan added that he knows Corker well and predicted that the senator is “going to vote for tax reform.” Ryan said he wants the House to pass the Republican tax cut bill by the Nov. 23 U.S. Thanksgiving holiday, echoing Trump’s call to speed up the party’s efforts to get the measure approved before year’s end. CNBC reported that Republicans plan to release their tax bill on Nov. 1 after an expected House vote on Thursday on a Senate-approved budget plan. House leaders are eager to get a tax bill voted on before the Dec. 8 deadline for a possible government shutdown comes into view, as it is likely to distract from the tax overhaul, financial firm Cowen and Co. said in a research note.  “The Senate time-frame on taxes remains much more of a mystery with a Senate Finance draft likely in the late November/early December time frame,” Cowen analyst Chris Krueger said.  Securing congressional passage of his tax plan is critically important to Trump, who has yet to get major legislation through Congress since taking office in January, including a healthcare overhaul he promised as a candidate last year. Tax cuts were another of Trump’s campaign pledges.  The White House argues that tax cuts are needed to boost economic growth and create jobs, but has shown sensitivity in recent weeks to arguments that it is endangering America’s long-term fiscal health.  Trump said he believed the tax overhaul would help bring in $4 trillion in foreign profits from U.S. companies. “It’s going to bring back, I would say, $4 trillion back into this country,” Trump told reporters in the Oval Office. “Nobody even knows the amount,” Trump said. Market analysts estimate that about $2.6 trillion in profits is being held offshore by U.S. multinationals to avoid the current 35 percent U.S. corporate income tax. Trump’s tax plan would require multinationals to bring in, or repatriate, those profits at a sharply reduced tax rate payable over several years. One of the key elements of the proposal is to slash the corporate income tax rate to 20 percent from 35 percent. While the broad parameters of the tax proposal have been made public, detailed legislation has not yet been unveiled. Democrats have painted Trump’s plan, with its $6 trillion in tax cuts, as a gift to the rich and corporate America that would balloon the federal deficit.  Trump promised on Monday to protect a popular retirement program as Republican lawmakers seek ways to pay for the proposed cuts.     '"
      ]
     },
     "execution_count": 156,
     "metadata": {},
     "output_type": "execute_result"
    }
   ],
   "source": [
    "df_train_final['text'][0]"
   ]
  },
  {
   "cell_type": "code",
   "execution_count": 157,
   "id": "4da2af48",
   "metadata": {},
   "outputs": [],
   "source": [
    "df_train_final['text'] = df_train_final['text'].apply(wordopt)"
   ]
  },
  {
   "cell_type": "code",
   "execution_count": 158,
   "id": "d5efc0b0",
   "metadata": {},
   "outputs": [
    {
     "data": {
      "text/plain": [
       "'washington  reuters    president donald trump began talks with republican senators on tuesday to try to build consensus for proposed tax cuts in a meeting that was overshadowed by an exchange of insults between the president and one of the lawmakers  trump has asked his fellow republicans who control congress to pass a package of tax cuts  including a deep reduction in the corporate income tax  by year s end   but hours before he was to promote the tax plan at a weekly lunch for republican senators on capitol hill  trump engaged in a distracting tussle with one of those lawmakers  bob corker  a leading fiscal hawk and the head of the senate foreign relations committee    bob corker  who     couldn t get elected dog catcher in tennessee  is now fighting tax cuts   trump wrote on twitter  later adding that the senator is  incompetent   trump arrived at the capitol building with senate majority leader mitch mcconnell for the lunch and gave a thumbs up to waiting reporters   a protester threw a handful of small russian flags toward trump and shouted comments about accusations of collusion between his presidential campaign and moscow  both trump and russia deny colluding but a special counsel appointed by the u s  justice department and congressional committees are looking into the matter  alienating any members of his own party could be costly for trump s legislative initiatives in the senate because republicans control the chamber by just a slim   margin      corker warned trump in television interviews against interfering in congressional efforts to finalize the legislation to cut taxes and called the president s visit with senate republicans  a photo op    hopefully  the white house will step aside and let that occur in a normal process   the tennessee republican told nbc s  today  program   that s the best way for us to have success   corker also described trump in a twitter post as  an utterly untruthful president   and in television interviews accused trump of debasing the united states  house of representatives speaker paul ryan urged reporters to ignore the trump corker spat and concentrate on the tax plan   put this twitter dispute aside  the fact is we have an historic chance of fixing this tax code   ryan said  ryan added that he knows corker well and predicted that the senator is  going to vote for tax reform   ryan said he wants the house to pass the republican tax cut bill by the nov   u s  thanksgiving holiday  echoing trump s call to speed up the party s efforts to get the measure approved before year s end  cnbc reported that republicans plan to release their tax bill on nov   after an expected house vote on thursday on a senate approved budget plan  house leaders are eager to get a tax bill voted on before the dec   deadline for a possible government shutdown comes into view  as it is likely to distract from the tax overhaul  financial firm cowen and co  said in a research note    the senate time frame on taxes remains much more of a mystery with a senate finance draft likely in the late november early december time frame   cowen analyst chris krueger said   securing congressional passage of his tax plan is critically important to trump  who has yet to get major legislation through congress since taking office in january  including a healthcare overhaul he promised as a candidate last year  tax cuts were another of trump s campaign pledges   the white house argues that tax cuts are needed to boost economic growth and create jobs  but has shown sensitivity in recent weeks to arguments that it is endangering america s long term fiscal health   trump said he believed the tax overhaul would help bring in   trillion in foreign profits from u s  companies   it s going to bring back  i would say    trillion back into this country   trump told reporters in the oval office   nobody even knows the amount   trump said  market analysts estimate that about    trillion in profits is being held offshore by u s  multinationals to avoid the current  percent u s  corporate income tax  trump s tax plan would require multinationals to bring in  or repatriate  those profits at a sharply reduced tax rate payable over several years  one of the key elements of the proposal is to slash the corporate income tax rate to  percent from  percent  while the broad parameters of the tax proposal have been made public  detailed legislation has not yet been unveiled  democrats have painted trump s plan  with its   trillion in tax cuts  as a gift to the rich and corporate america that would balloon the federal deficit   trump promised on monday to protect a popular retirement program as republican lawmakers seek ways to pay for the proposed cuts      '"
      ]
     },
     "execution_count": 158,
     "metadata": {},
     "output_type": "execute_result"
    }
   ],
   "source": [
    "df_train_final['text'][0]"
   ]
  },
  {
   "cell_type": "code",
   "execution_count": 159,
   "id": "68aeb2d8",
   "metadata": {},
   "outputs": [
    {
     "data": {
      "text/html": [
       "<div>\n",
       "<style scoped>\n",
       "    .dataframe tbody tr th:only-of-type {\n",
       "        vertical-align: middle;\n",
       "    }\n",
       "\n",
       "    .dataframe tbody tr th {\n",
       "        vertical-align: top;\n",
       "    }\n",
       "\n",
       "    .dataframe thead th {\n",
       "        text-align: right;\n",
       "    }\n",
       "</style>\n",
       "<table border=\"1\" class=\"dataframe\">\n",
       "  <thead>\n",
       "    <tr style=\"text-align: right;\">\n",
       "      <th></th>\n",
       "      <th>text</th>\n",
       "      <th>Class</th>\n",
       "    </tr>\n",
       "  </thead>\n",
       "  <tbody>\n",
       "    <tr>\n",
       "      <th>0</th>\n",
       "      <td>washington  reuters    president donald trump ...</td>\n",
       "      <td>1</td>\n",
       "    </tr>\n",
       "    <tr>\n",
       "      <th>1</th>\n",
       "      <td>americans need to put american citizens first ...</td>\n",
       "      <td>0</td>\n",
       "    </tr>\n",
       "    <tr>\n",
       "      <th>2</th>\n",
       "      <td>new york  reuters    financial advisers and ac...</td>\n",
       "      <td>1</td>\n",
       "    </tr>\n",
       "    <tr>\n",
       "      <th>3</th>\n",
       "      <td>century wire says did mitt romney just make a...</td>\n",
       "      <td>0</td>\n",
       "    </tr>\n",
       "    <tr>\n",
       "      <th>4</th>\n",
       "      <td>ivanka trump and chelsea clinton defended mali...</td>\n",
       "      <td>0</td>\n",
       "    </tr>\n",
       "  </tbody>\n",
       "</table>\n",
       "</div>"
      ],
      "text/plain": [
       "                                                text  Class\n",
       "0  washington  reuters    president donald trump ...      1\n",
       "1  americans need to put american citizens first ...      0\n",
       "2  new york  reuters    financial advisers and ac...      1\n",
       "3   century wire says did mitt romney just make a...      0\n",
       "4  ivanka trump and chelsea clinton defended mali...      0"
      ]
     },
     "execution_count": 159,
     "metadata": {},
     "output_type": "execute_result"
    }
   ],
   "source": [
    "df_train_final.head()"
   ]
  },
  {
   "cell_type": "code",
   "execution_count": 160,
   "id": "8c41ab76",
   "metadata": {},
   "outputs": [
    {
     "name": "stderr",
     "output_type": "stream",
     "text": [
      "[nltk_data] Downloading package stopwords to\n",
      "[nltk_data]     C:\\Users\\Asus\\AppData\\Roaming\\nltk_data...\n",
      "[nltk_data]   Package stopwords is already up-to-date!\n"
     ]
    },
    {
     "data": {
      "text/plain": [
       "True"
      ]
     },
     "execution_count": 160,
     "metadata": {},
     "output_type": "execute_result"
    }
   ],
   "source": [
    "from nltk.stem.porter import PorterStemmer\n",
    "from nltk.corpus import stopwords\n",
    "import nltk\n",
    "nltk.download('stopwords')"
   ]
  },
  {
   "cell_type": "code",
   "execution_count": 161,
   "id": "b80aa4f8",
   "metadata": {},
   "outputs": [],
   "source": [
    "port_steam = PorterStemmer()"
   ]
  },
  {
   "cell_type": "code",
   "execution_count": 162,
   "id": "2a4dcbc7",
   "metadata": {},
   "outputs": [],
   "source": [
    "def stemming(content):\n",
    "    stemmed_content = re.sub('[^a-zA-Z]', ' ', content)\n",
    "    stemmed_content = stemmed_content.lower()\n",
    "    stemmed_content = stemmed_content.split()\n",
    "    stemmed_content = [port_steam.stem(word) \n",
    "    for word in stemmed_content if not word in stopwords.words('english')]\n",
    "    stemmed_content = ' '.join(stemmed_content)\n",
    "    return stemmed_content"
   ]
  },
  {
   "cell_type": "code",
   "execution_count": 163,
   "id": "a0f9baa4",
   "metadata": {},
   "outputs": [],
   "source": [
    "df_train_final['text'] = df_train_final['text'].apply(stemming)"
   ]
  },
  {
   "cell_type": "code",
   "execution_count": 164,
   "id": "62cd6ceb",
   "metadata": {},
   "outputs": [],
   "source": [
    "x=df_train_final['text']"
   ]
  },
  {
   "cell_type": "code",
   "execution_count": 165,
   "id": "4815c0bc",
   "metadata": {},
   "outputs": [],
   "source": [
    "y=df_train_final['Class']"
   ]
  },
  {
   "cell_type": "code",
   "execution_count": 166,
   "id": "d0be44b5",
   "metadata": {},
   "outputs": [],
   "source": [
    "x_train,x_test,y_train,y_test=train_test_split(x,y,test_size=0.15)"
   ]
  },
  {
   "cell_type": "code",
   "execution_count": 167,
   "id": "41918f80",
   "metadata": {},
   "outputs": [],
   "source": [
    "from sklearn.feature_extraction.text import TfidfVectorizer\n",
    "\n",
    "vectorization = TfidfVectorizer()\n",
    "xv_train = vectorization.fit_transform(x_train)\n",
    "xv_test = vectorization.transform(x_test)"
   ]
  },
  {
   "cell_type": "code",
   "execution_count": 168,
   "id": "0dc1250f",
   "metadata": {},
   "outputs": [
    {
     "data": {
      "text/plain": [
       "(907, 29336)"
      ]
     },
     "execution_count": 168,
     "metadata": {},
     "output_type": "execute_result"
    }
   ],
   "source": [
    "xv_test.shape"
   ]
  },
  {
   "cell_type": "code",
   "execution_count": 169,
   "id": "3a332cd3",
   "metadata": {},
   "outputs": [],
   "source": [
    "from sklearn import model_selection, svm"
   ]
  },
  {
   "cell_type": "code",
   "execution_count": 170,
   "id": "79fff89a",
   "metadata": {},
   "outputs": [
    {
     "data": {
      "text/plain": [
       "SVC(C=1.9, kernel='linear')"
      ]
     },
     "execution_count": 170,
     "metadata": {},
     "output_type": "execute_result"
    }
   ],
   "source": [
    "SVM = svm.SVC(C=1.9, kernel='linear')\n",
    "SVM.fit(xv_train, y_train)"
   ]
  },
  {
   "cell_type": "code",
   "execution_count": 171,
   "id": "7555de8a",
   "metadata": {},
   "outputs": [
    {
     "data": {
      "text/plain": [
       "0.9977949283351709"
      ]
     },
     "execution_count": 171,
     "metadata": {},
     "output_type": "execute_result"
    }
   ],
   "source": [
    "svm_predictions = SVM.predict(xv_test)\n",
    "SVM.score(xv_test,y_test)"
   ]
  },
  {
   "cell_type": "code",
   "execution_count": 172,
   "id": "2a90a9cc",
   "metadata": {},
   "outputs": [
    {
     "name": "stdout",
     "output_type": "stream",
     "text": [
      "              precision    recall  f1-score   support\n",
      "\n",
      "           0       1.00      1.00      1.00       606\n",
      "           1       1.00      1.00      1.00       301\n",
      "\n",
      "    accuracy                           1.00       907\n",
      "   macro avg       1.00      1.00      1.00       907\n",
      "weighted avg       1.00      1.00      1.00       907\n",
      "\n"
     ]
    }
   ],
   "source": [
    "print(classification_report(y_test,svm_predictions))"
   ]
  },
  {
   "cell_type": "code",
   "execution_count": 177,
   "id": "e9d9f3f1",
   "metadata": {},
   "outputs": [],
   "source": [
    "def output_lable(n):\n",
    "    if n == 0:\n",
    "        return \"Fake News\"\n",
    "    elif n == 1:\n",
    "        return \"Not A Fake News\"\n",
    "    \n",
    "def manual_testing(news):\n",
    "    testing_news = {\"text\":[news]}\n",
    "    new_def_test = pd.DataFrame(testing_news)\n",
    "    new_def_test[\"text\"] = new_def_test[\"text\"].apply(wordopt) \n",
    "    new_def_test[\"text\"] = new_def_test[\"text\"].apply(stemming)\n",
    "    new_x_test = new_def_test[\"text\"]\n",
    "    new_xv_test = vectorization.transform(new_x_test)\n",
    "    pred_SVM = SVM.predict(new_xv_test)\n",
    "    return print(\"\\n\\nSVM Prediction:{}\".format(output_lable(pred_SVM[0])))                                                                                                                                                                                                                                                                                            "
   ]
  },
  {
   "cell_type": "code",
   "execution_count": 179,
   "id": "5fffdd00",
   "metadata": {},
   "outputs": [
    {
     "name": "stdout",
     "output_type": "stream",
     "text": [
      "Robert Fantina CounterpunchAlthough the United States is still ten months from its next exercise in electoral futility, most polls do not indicate what former Secretary of State Hillary Clinton is most anxious to see: a runaway victory for her candidacy. It is a good sign that, despite the fact that she has no real contrasting opponent on the Democratic side, the coronation she expected isn t going to happen.One might say that this writer focuses too much on Mrs. Clinton s adoration of Israel. But by looking at her comments about that apartheid nation, one gets a clear view of some broader, very troubling perspectives that Mrs. Clinton seems to hold.On January 6, an opinion piece appeared in The Jewish Journal, written by Mrs. Clinton. It is a fawning, maudlin essay, typical of the writing of anyone seeking national political office in the U.S. who knows they must pay homage to their Israeli lord and master. A few points from this essay tell much about Mrs. Clinton. I m especially concerned about the new wave of violence inside Israel itself   brutal stabbings, shootings, and vehicle attacks that seek to sow fear among the innocent. The number of Palestinians killed in the West Bank alone by settler and IOF (Israel Occupation Force) terrorists is at a ten-year high. Why is Mrs. Clinton not  especially concerned  about the continuing wave of violence against Palestinians, in an area that even the U.S. says Israel occupies illegally? Do not these vicious attacks  seek to sow fear among the innocent ? Only a two-state solution negotiated between the parties can provide Palestinians independence, sovereignty, and dignity, and provide Israelis the secure and recognized borders of a democratic Jewish state. Why, oh why, does Mrs. Clinton continue to make this ridiculous statement? The borders of the Jewish state are recognized by most of the world, including the United Nations, and consist of those determined prior to 1967. There is nothing to negotiate. Does Mrs. Clinton disdain international law? It appears that she feels Israel, like the U.S. in its international dealings, is, indeed, above the law. BIBI FIRST: Hillary Clinton will never tell Israel  no .And this writer must point out, once again, that negotiations, which have proceeded on and off for twenty years or so, can only be effective when each side wants something the other has, that it can only obtain by surrendering something it has. Israel wants all of Palestine, and takes it, piece by piece, with complete impunity. Why should Palestine agree to pointless negotiations?Mrs. Clinton refers to the  secure and recognized  borders of a Jewish state, but does not seem to consider the  secure and recognized  borders of a Palestinian state. We must continue to fight against global efforts to delegitimize Israel. The Boycott, Divestment, and Sanctions movement, known as BDS, is the latest front in this battle. BDS demonizes Israeli scientists and intellectuals even young students and compares Israel to South African apartheid.  That s wrong and this campaign should end. The most significant efforts to delegitimize Israel are made by Israel itself. Its racist society, wherein Israeli Jews have more rights than anyone else in Israel; its apartheid system of segregation; its complete disdain for the human rights of the Palestinians; the racist, murderous statements made by government officials all further delegitimize the country, and demonize it, and rightly so. Israel is often compared to South African apartheid, and the comparison is valid.And it is not just in the context of Palestine and Israel that Mrs. Clinton demonstrates either gross ignorance, or gross dishonesty. Her essay also contained these pearls of wisdom: We must work with our friends and partners to deny ISIS territory in the Middle East, dismantle the global infrastructure of terror, and toughen our defenses at home.  We can t just contain ISIS   we must defeat ISIS. Is that really the U.S. s goal? Garikai Chengu, a researcher at Harvard University, suggested in September of 2014 that ISIS  is made-in-the-USA, an instrument of terror designed to divide and conquer the oil-rich Middle East and to counter Iran s growing influence in the region. In a June, 2015 column in The Guardian, Associate Editor Seumas Milne said this:  [T]he U.S. and its allies weren t only supporting and arming an opposition they knew to be dominated by extreme sectarian groups; they were prepared to countenance the creation of some sort of  Islamic state    despite the  grave danger  to Iraq s unity   as a Sunni buffer to weaken Syria. Continue this article at Counterpunch READ MORE 2016 ELECTION NEWS AT: 21st Century Wire 2016 Files\n"
     ]
    }
   ],
   "source": [
    "news = str(input())"
   ]
  },
  {
   "cell_type": "code",
   "execution_count": 180,
   "id": "a3db650a",
   "metadata": {},
   "outputs": [
    {
     "name": "stdout",
     "output_type": "stream",
     "text": [
      "\n",
      "\n",
      "SVM Prediction:Fake News\n"
     ]
    }
   ],
   "source": [
    "manual_testing(news)"
   ]
  },
  {
   "cell_type": "code",
   "execution_count": null,
   "id": "e705a678",
   "metadata": {},
   "outputs": [],
   "source": []
  }
 ],
 "metadata": {
  "kernelspec": {
   "display_name": "Python 3",
   "language": "python",
   "name": "python3"
  },
  "language_info": {
   "codemirror_mode": {
    "name": "ipython",
    "version": 3
   },
   "file_extension": ".py",
   "mimetype": "text/x-python",
   "name": "python",
   "nbconvert_exporter": "python",
   "pygments_lexer": "ipython3",
   "version": "3.8.8"
  }
 },
 "nbformat": 4,
 "nbformat_minor": 5
}
